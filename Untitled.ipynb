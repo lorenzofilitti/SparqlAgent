{
 "cells": [
  {
   "cell_type": "code",
   "execution_count": 1,
   "id": "066a42c9-e65d-41b1-a536-f6386332e000",
   "metadata": {},
   "outputs": [],
   "source": [
    "from src.programs.parser import LilaDatabaseParser"
   ]
  },
  {
   "cell_type": "code",
   "execution_count": 2,
   "id": "ec09ba0f-6b1b-41d2-8f5f-b111b05132d0",
   "metadata": {},
   "outputs": [
    {
     "name": "stderr",
     "output_type": "stream",
     "text": [
      "INFO:root:Extracted 520 classes\n",
      "INFO:root:Extracted 73 properties\n"
     ]
    }
   ],
   "source": [
    "parser = LilaDatabaseParser()"
   ]
  },
  {
   "cell_type": "code",
   "execution_count": 4,
   "id": "3ecab36c-ea9a-4377-ac27-e4dcd1fa1a5a",
   "metadata": {},
   "outputs": [
    {
     "name": "stdout",
     "output_type": "stream",
     "text": [
      "Concept(uri='http://lila-erc.eu/ontologies/lila_corpora/CitationStructure', label='CitationStructure', description='A document layer that connects all the citation units belonging to a document. It serves as a link between a document and the citation units.\\n\\nE.g. The Aneid is divided into books, each of which is a Document. The book is linked to the citation layer and this links the citation units representing the lines.\\n\\nThis is a schema of the structure:\\n\\nAeneid (Document) > Book 1 (Document) > Cit Structure of Book 1 > Line 1 (Citation Unit) > arma', parent_class=URI(uri='http://purl.org/powla/powla.owl#DocumentLayer', label='Citation Structure'), sub_class=None, _type=<OntologyElement.CLASS: 'class'>)\n"
     ]
    }
   ],
   "source": [
    "for uri, concept in parser.classes.items():\n",
    "    if concept.label:\n",
    "        if \"Citation\" in concept.label:\n",
    "            print(concept)"
   ]
  },
  {
   "cell_type": "code",
   "execution_count": 19,
   "id": "ad543da5-bf40-433d-80e5-e55cb4789bca",
   "metadata": {},
   "outputs": [],
   "source": [
    "uri = parser.identifier_uri_mapping[\"Citation Structure\"]"
   ]
  },
  {
   "cell_type": "code",
   "execution_count": 20,
   "id": "566bb973-800d-407c-9d60-59b04a2df09c",
   "metadata": {},
   "outputs": [
    {
     "data": {
      "text/plain": [
       "'Lemma'"
      ]
     },
     "execution_count": 20,
     "metadata": {},
     "output_type": "execute_result"
    }
   ],
   "source": [
    "import os\n",
    "\n",
    "p = os.path.basename(uri)\n",
    "p"
   ]
  }
 ],
 "metadata": {
  "kernelspec": {
   "display_name": "sprqlAg_venv",
   "language": "python",
   "name": "sprqlag_venv"
  },
  "language_info": {
   "codemirror_mode": {
    "name": "ipython",
    "version": 3
   },
   "file_extension": ".py",
   "mimetype": "text/x-python",
   "name": "python",
   "nbconvert_exporter": "python",
   "pygments_lexer": "ipython3",
   "version": "3.12.6"
  }
 },
 "nbformat": 4,
 "nbformat_minor": 5
}
