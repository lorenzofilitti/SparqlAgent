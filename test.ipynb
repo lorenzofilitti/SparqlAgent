{
 "cells": [
  {
   "cell_type": "code",
   "execution_count": 15,
   "metadata": {},
   "outputs": [
    {
     "data": {
      "text/plain": [
       "True"
      ]
     },
     "execution_count": 15,
     "metadata": {},
     "output_type": "execute_result"
    }
   ],
   "source": [
    "from pydantic_ai import Agent\n",
    "import nest_asyncio\n",
    "from pathlib import Path\n",
    "from dotenv import load_dotenv\n",
    "import chromadb\n",
    "import pandas as pd\n",
    "import re\n",
    "from src.utilities.constants import NUMBER_SIMILARITY_REULTS, USER_QUERY_COLLECTION_NAME, SPARQL_QUERY_COLLECTION_NAME\n",
    "nest_asyncio.apply()\n",
    "load_dotenv()"
   ]
  },
  {
   "cell_type": "code",
   "execution_count": 22,
   "metadata": {},
   "outputs": [
    {
     "data": {
      "text/plain": [
       "'Collections updated\\nCollections size: (88, 88)'"
      ]
     },
     "execution_count": 22,
     "metadata": {},
     "output_type": "execute_result"
    }
   ],
   "source": [
    "def update_collection(create_collections : bool):\n",
    "    file_path = Path.cwd() / \"querySparql.xlsx\"\n",
    "    df = pd.read_excel(file_path, sheet_name=\"Foglio1\", names=[\"question\", \"sparql_query\"])\n",
    "    ids = []\n",
    "    queries = []\n",
    "    for row in df.itertuples():\n",
    "        user_query = re.sub(\"\\n\", \" \", row[1])\n",
    "        user_query = re.sub(\"\\t\", \" \", user_query)\n",
    "\n",
    "        s_query = re.sub(\"\\n\", \" \", row[2])\n",
    "        s_query = re.sub(\"\\t\", \" \", s_query)\n",
    "\n",
    "        queries.append({\"user_query\": user_query, \"sparql_query\": s_query})\n",
    "        ids.append(f\"ID_{row[0]}\")\n",
    "\n",
    "    \n",
    "    client = chromadb.HttpClient(host='localhost', port=8000)\n",
    "    if create_collections:\n",
    "        client.create_collection(USER_QUERY_COLLECTION_NAME)\n",
    "        client.create_collection(SPARQL_QUERY_COLLECTION_NAME)\n",
    "\n",
    "    u_query_collection = client.get_collection(name=USER_QUERY_COLLECTION_NAME)\n",
    "    s_query_collection = client.get_collection(name=SPARQL_QUERY_COLLECTION_NAME)\n",
    "\n",
    "\n",
    "    for i, query in zip(ids, queries):\n",
    "        u_query_collection.add(\n",
    "            documents=query.get(\"user_query\"),\n",
    "            ids=i\n",
    "        )\n",
    "        s_query_collection.add(\n",
    "            documents=query.get(\"sparql_query\"),\n",
    "            ids=i\n",
    "        )\n",
    "\n",
    "    return f\"Collections updated\\nCollections size: {u_query_collection.count(), s_query_collection.count()}\"\n",
    "\n",
    "update_collection(create_collections=False)"
   ]
  }
 ],
 "metadata": {
  "kernelspec": {
   "display_name": "sprqlAg_venv",
   "language": "python",
   "name": "python3"
  },
  "language_info": {
   "codemirror_mode": {
    "name": "ipython",
    "version": 3
   },
   "file_extension": ".py",
   "mimetype": "text/x-python",
   "name": "python",
   "nbconvert_exporter": "python",
   "pygments_lexer": "ipython3",
   "version": "3.12.6"
  }
 },
 "nbformat": 4,
 "nbformat_minor": 2
}
