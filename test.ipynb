{
 "cells": [
  {
   "cell_type": "code",
   "execution_count": 6,
   "metadata": {},
   "outputs": [
    {
     "data": {
      "text/plain": [
       "True"
      ]
     },
     "execution_count": 6,
     "metadata": {},
     "output_type": "execute_result"
    }
   ],
   "source": [
    "from pydantic_ai import Agent\n",
    "import nest_asyncio\n",
    "from pathlib import Path\n",
    "from dotenv import load_dotenv\n",
    "import chromadb\n",
    "import pandas as pd\n",
    "import re\n",
    "import openpyxl\n",
    "from src.utilities.constants import USER_QUERY_COLLECTION_NAME, SPARQL_QUERY_COLLECTION_NAME\n",
    "import json\n",
    "nest_asyncio.apply()\n",
    "load_dotenv()"
   ]
  },
  {
   "cell_type": "code",
   "execution_count": 4,
   "metadata": {},
   "outputs": [
    {
     "data": {
      "text/plain": [
       "'Collections updated\\nCollections size: (90, 90)'"
      ]
     },
     "execution_count": 4,
     "metadata": {},
     "output_type": "execute_result"
    }
   ],
   "source": [
    "def update_collection(create_collections : bool):\n",
    "    file_path = Path.cwd() / \"querySparql.xlsx\"\n",
    "    df = pd.read_excel(file_path, sheet_name=\"Foglio1\", names=[\"question\", \"sparql_query\"])\n",
    "    ids = []\n",
    "    queries = []\n",
    "    for row in df.itertuples():\n",
    "        user_query = re.sub(\"\\n\", \" \", row[1])\n",
    "        user_query = re.sub(\"\\t\", \" \", user_query)\n",
    "\n",
    "        s_query = re.sub(\"\\n\", \" \", row[2])\n",
    "        s_query = re.sub(\"\\t\", \" \", s_query)\n",
    "\n",
    "        queries.append({\"user_query\": user_query, \"sparql_query\": s_query})\n",
    "        ids.append(f\"ID_{row[0]}\")\n",
    "\n",
    "    \n",
    "    client = chromadb.HttpClient(host='localhost', port=8000)\n",
    "    if create_collections:\n",
    "        client.create_collection(USER_QUERY_COLLECTION_NAME)\n",
    "        client.create_collection(SPARQL_QUERY_COLLECTION_NAME)\n",
    "\n",
    "    u_query_collection = client.get_collection(name=USER_QUERY_COLLECTION_NAME)\n",
    "    s_query_collection = client.get_collection(name=SPARQL_QUERY_COLLECTION_NAME)\n",
    "\n",
    "\n",
    "    for i, query in zip(ids, queries):\n",
    "        u_query_collection.add(\n",
    "            documents=query.get(\"user_query\"),\n",
    "            ids=i\n",
    "        )\n",
    "        s_query_collection.add(\n",
    "            documents=query.get(\"sparql_query\"),\n",
    "            ids=i\n",
    "        )\n",
    "\n",
    "    return f\"Collections updated\\nCollections size: {u_query_collection.count(), s_query_collection.count()}\"\n",
    "\n",
    "update_collection(create_collections=False)"
   ]
  },
  {
   "cell_type": "code",
   "execution_count": 8,
   "metadata": {},
   "outputs": [],
   "source": [
    "def decorator(func):\n",
    "    def wrapper(*args, **kwargs):\n",
    "        print(f\"args = {args}\")\n",
    "    return wrapper\n",
    "\n",
    "\n",
    "@decorator\n",
    "def test(query):\n",
    "    pass"
   ]
  },
  {
   "cell_type": "code",
   "execution_count": 15,
   "metadata": {},
   "outputs": [],
   "source": [
    "import asyncio\n",
    "from SPARQLWrapper import SPARQLWrapper2, JSON\n",
    "import requests"
   ]
  },
  {
   "cell_type": "code",
   "execution_count": 11,
   "metadata": {},
   "outputs": [],
   "source": [
    "query = \"select ?author where {?doc a powla:Document; dcterms:creator ?author} limit 5\"\n",
    "params = {\"query\": query, \"format\": \"json\"}\n",
    "endpoint = \"https://lila-erc.eu/sparql/lila_knowledge_base/sparql\"\n",
    "res = requests.get(endpoint, params=params).json()\n"
   ]
  },
  {
   "cell_type": "code",
   "execution_count": 12,
   "metadata": {},
   "outputs": [
    {
     "name": "stdout",
     "output_type": "stream",
     "text": [
      "4\n",
      "[\"'http://lila-erc.eu/data/corpora/id/authors/33616ad69195643c3e0ea58463e5029a'\", \"'http://www.wikidata.org/entity/Q1067'\", \"'http://www.wikidata.org/entity/Q549041'\", \"'http://www.wikidata.org/entity/Q7198'\"]\n"
     ]
    }
   ],
   "source": [
    "import re\n",
    "result = re.findall(r\"\\'http.*?\\'\", str(res))\n",
    "print(f\"{len(result)}\\n{result}\")"
   ]
  },
  {
   "cell_type": "code",
   "execution_count": 13,
   "metadata": {},
   "outputs": [
    {
     "ename": "SyntaxError",
     "evalue": "invalid syntax (2190015710.py, line 1)",
     "output_type": "error",
     "traceback": [
      "  \u001b[36mCell\u001b[39m\u001b[36m \u001b[39m\u001b[32mIn[13]\u001b[39m\u001b[32m, line 1\u001b[39m\n\u001b[31m    \u001b[39m\u001b[31mhttp://www.wikidata.org/entity/Q549041sub = [re.sub(\"\\'\", \"\", result) for result in result]\u001b[39m\n         ^\n\u001b[31mSyntaxError\u001b[39m\u001b[31m:\u001b[39m invalid syntax\n"
     ]
    }
   ],
   "source": [
    "http://www.wikidata.org/entity/Q549041sub = [re.sub(\"\\'\", \"\", result) for result in result]\n",
    "sub[0]"
   ]
  },
  {
   "cell_type": "code",
   "execution_count": 14,
   "metadata": {},
   "outputs": [
    {
     "ename": "KeyError",
     "evalue": "'entities'",
     "output_type": "error",
     "traceback": [
      "\u001b[31m---------------------------------------------------------------------------\u001b[39m",
      "\u001b[31mKeyError\u001b[39m                                  Traceback (most recent call last)",
      "\u001b[36mCell\u001b[39m\u001b[36m \u001b[39m\u001b[32mIn[14]\u001b[39m\u001b[32m, line 1\u001b[39m\n\u001b[32m----> \u001b[39m\u001b[32m1\u001b[39m \u001b[38;5;28mprint\u001b[39m(\u001b[43mres\u001b[49m\u001b[43m[\u001b[49m\u001b[33;43m\"\u001b[39;49m\u001b[33;43mentities\u001b[39;49m\u001b[33;43m\"\u001b[39;49m\u001b[43m]\u001b[49m[\u001b[33m\"\u001b[39m\u001b[33mQ1067\u001b[39m\u001b[33m\"\u001b[39m][\u001b[33m\"\u001b[39m\u001b[33mlabels\u001b[39m\u001b[33m\"\u001b[39m][\u001b[33m\"\u001b[39m\u001b[33men\u001b[39m\u001b[33m\"\u001b[39m],\n\u001b[32m      2\u001b[39m res[\u001b[33m\"\u001b[39m\u001b[33mentities\u001b[39m\u001b[33m\"\u001b[39m][\u001b[33m\"\u001b[39m\u001b[33mQ1067\u001b[39m\u001b[33m\"\u001b[39m][\u001b[33m\"\u001b[39m\u001b[33mdescriptions\u001b[39m\u001b[33m\"\u001b[39m][\u001b[33m\"\u001b[39m\u001b[33men\u001b[39m\u001b[33m\"\u001b[39m])\n",
      "\u001b[31mKeyError\u001b[39m: 'entities'"
     ]
    }
   ],
   "source": [
    "print(res[\"entities\"][\"Q1067\"][\"labels\"][\"en\"],\n",
    "res[\"entities\"][\"Q1067\"][\"descriptions\"][\"en\"])"
   ]
  },
  {
   "cell_type": "code",
   "execution_count": 20,
   "metadata": {},
   "outputs": [],
   "source": [
    "endpoint = \"https://lila-erc.eu/sparql/lila_knowledge_base/sparql\"\n",
    "query = \"\"\"select ?pref ?lab where {?pref a lila:Prefix ; rdfs:label ?lab }order by ?pref\"\"\"\n",
    "params = {\"query\": query, \"format\": \"json\"}\n",
    "res = requests.get(endpoint, params=params).json()"
   ]
  },
  {
   "cell_type": "code",
   "execution_count": 21,
   "metadata": {},
   "outputs": [],
   "source": [
    "import re\n",
    "\n",
    "\n",
    "suffixes = {}\n",
    "for r in res[\"results\"][\"bindings\"]:\n",
    "    lab = r[\"lab\"][\"value\"]\n",
    "    uri = r[\"pref\"][\"value\"]\n",
    "    label = re.sub(\"-\", \"\", lab)\n",
    "    number = re.findall(r'\\d+', uri)\n",
    "    prefix = re.sub(uri, f\"prefix:{number[0]}\", uri)\n",
    "    suffixes.update({label: prefix})\n",
    "\n",
    "with open(\"prefixes.json\", \"w\") as f:\n",
    "    json.dump(suffixes, f, indent=4)\n",
    "\n"
   ]
  },
  {
   "cell_type": "code",
   "execution_count": 23,
   "metadata": {},
   "outputs": [
    {
     "data": {
      "text/plain": [
       "'prefix:3'"
      ]
     },
     "execution_count": 23,
     "metadata": {},
     "output_type": "execute_result"
    }
   ],
   "source": [
    "with open(\"prefixes.json\", \"r\") as f:\n",
    "    prefixes = json.load(f)\n",
    "\n",
    "prefixes.get(\"re\")"
   ]
  },
  {
   "cell_type": "code",
   "execution_count": 10,
   "metadata": {},
   "outputs": [
    {
     "data": {
      "text/plain": [
       "[{'a(b)': 'prefix:1'},\n",
       " {'in (entering)': 'prefix:2'},\n",
       " {'re': 'prefix:3'},\n",
       " {'sub': 'prefix:4'},\n",
       " {'ad': 'prefix:5'},\n",
       " {'con': 'prefix:6'},\n",
       " {'e(x)': 'prefix:7'},\n",
       " {'ob': 'prefix:8'},\n",
       " {'dis': 'prefix:9'},\n",
       " {'am(b)(i)': 'prefix:10'},\n",
       " {'bi': 'prefix:11'},\n",
       " {'ante': 'prefix:12'},\n",
       " {'prae': 'prefix:13'},\n",
       " {'per': 'prefix:14'},\n",
       " {'por': 'prefix:15'},\n",
       " {'pro': 'prefix:16'},\n",
       " {'archi': 'prefix:17'},\n",
       " {'circum': 'prefix:18'},\n",
       " {'se/sed/so': 'prefix:19'},\n",
       " {'in (negation)': 'prefix:20'},\n",
       " {'de': 'prefix:21'},\n",
       " {'contra': 'prefix:22'},\n",
       " {'ec': 'prefix:23'},\n",
       " {'extra': 'prefix:24'},\n",
       " {'indu/endo/indo': 'prefix:25'},\n",
       " {'inter': 'prefix:26'},\n",
       " {'tra(ns)': 'prefix:27'},\n",
       " {'intro': 'prefix:28'},\n",
       " {'multi': 'prefix:29'},\n",
       " {'ne': 'prefix:30'},\n",
       " {'post': 'prefix:31'},\n",
       " {'praeter': 'prefix:32'},\n",
       " {'pseudo': 'prefix:33'},\n",
       " {'quadri': 'prefix:34'},\n",
       " {'tri': 'prefix:35'},\n",
       " {'semi': 'prefix:36'},\n",
       " {'subter': 'prefix:37'},\n",
       " {'super': 'prefix:38'},\n",
       " {'ue': 'prefix:39'},\n",
       " {'retro': 'prefix:42'}]"
      ]
     },
     "execution_count": 10,
     "metadata": {},
     "output_type": "execute_result"
    }
   ],
   "source": [
    "prefixes"
   ]
  }
 ],
 "metadata": {
  "kernelspec": {
   "display_name": "sprqlAg_venv",
   "language": "python",
   "name": "python3"
  },
  "language_info": {
   "codemirror_mode": {
    "name": "ipython",
    "version": 3
   },
   "file_extension": ".py",
   "mimetype": "text/x-python",
   "name": "python",
   "nbconvert_exporter": "python",
   "pygments_lexer": "ipython3",
   "version": "3.12.6"
  }
 },
 "nbformat": 4,
 "nbformat_minor": 2
}
